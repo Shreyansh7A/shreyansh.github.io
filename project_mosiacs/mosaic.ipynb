{
 "cells": [
  {
   "cell_type": "markdown",
   "metadata": {},
   "source": [
    "# Project Mosaic"
   ]
  },
  {
   "cell_type": "code",
   "execution_count": null,
   "metadata": {},
   "outputs": [
    {
     "ename": "",
     "evalue": "",
     "output_type": "error",
     "traceback": [
      "\u001b[1;31mRunning cells with 'Python 3.7.9 64-bit' requires ipykernel package.\n",
      "\u001b[1;31mRun the following command to install 'ipykernel' into the Python environment. \n",
      "\u001b[1;31mCommand: '/usr/local/bin/python3 -m pip install ipykernel -U --user --force-reinstall'"
     ]
    }
   ],
   "source": [
    "import script\n",
    "image = script.loadImage(\"sample.png\", format = \"Lab\")\n",
    "image"
   ]
  },
  {
   "cell_type": "code",
   "execution_count": 10,
   "metadata": {},
   "outputs": [
    {
     "data": {
      "text/plain": [
       "array([ 87.73509949, -86.18302974,  83.17970318])"
      ]
     },
     "execution_count": 10,
     "metadata": {},
     "output_type": "execute_result"
    }
   ],
   "source": [
    "green_pixel = image[0][1]\n",
    "green_pixel"
   ]
  },
  {
   "cell_type": "code",
   "execution_count": 11,
   "metadata": {},
   "outputs": [
    {
     "name": "stdout",
     "output_type": "stream",
     "text": [
      "✅ `green_pixel` looks like a pixel!\n",
      "❌ `green_pixel` looks like a pixel, but it's not green! Check your (x, y) coordinates.\n"
     ]
    }
   ],
   "source": [
    "# == TEST CASE for Section 1.2 ==\n",
    "# - Checks to see if `green_pixel` is storing a green pixel\n",
    "script.run_test_case_1b(green_pixel)"
   ]
  },
  {
   "cell_type": "code",
   "execution_count": null,
   "metadata": {},
   "outputs": [],
   "source": []
  },
  {
   "cell_type": "markdown",
   "metadata": {},
   "source": [
    "<hr style=\"color: #DD3403;\">"
   ]
  },
  {
   "cell_type": "markdown",
   "metadata": {},
   "source": [
    "# Section 2: Accessing Color Data\n",
    "\n",
    "Every color visible on a computer screen is made up of the three **primary colors of light** -- red, green, and blue.  Your monitor displays color by varying the intensity of the red light, green light, and blue light emitted for every pixel on your screen.  Since images are primary displayed on computer screens, the **default color space is to represent colors as red, green, and blue**.\n"
   ]
  },
  {
   "cell_type": "code",
   "execution_count": 12,
   "metadata": {},
   "outputs": [
    {
     "data": {
      "text/plain": [
       "array([59.85340474, 62.70471393, 56.35031805])"
      ]
     },
     "execution_count": 12,
     "metadata": {},
     "output_type": "execute_result"
    }
   ],
   "source": [
    "illini_orange_pixel = image[1][2]\n",
    "illini_orange_pixel"
   ]
  },
  {
   "cell_type": "code",
   "execution_count": 13,
   "metadata": {},
   "outputs": [
    {
     "data": {
      "text/plain": [
       "59.853404738030065"
      ]
     },
     "execution_count": 13,
     "metadata": {},
     "output_type": "execute_result"
    }
   ],
   "source": [
    "red = illini_orange_pixel[0]\n",
    "red"
   ]
  },
  {
   "cell_type": "code",
   "execution_count": 14,
   "metadata": {},
   "outputs": [
    {
     "data": {
      "text/plain": [
       "62.704713934425506"
      ]
     },
     "execution_count": 14,
     "metadata": {},
     "output_type": "execute_result"
    }
   ],
   "source": [
    "green = illini_orange_pixel[1]\n",
    "green"
   ]
  },
  {
   "cell_type": "code",
   "execution_count": 15,
   "metadata": {},
   "outputs": [
    {
     "data": {
      "text/plain": [
       "56.35031804815643"
      ]
     },
     "execution_count": 15,
     "metadata": {},
     "output_type": "execute_result"
    }
   ],
   "source": [
    "blue = illini_orange_pixel[2]\n",
    "blue"
   ]
  },
  {
   "cell_type": "markdown",
   "metadata": {},
   "source": [
    "## Average Pixel Strategy\n",
    "\n",
    "To create the mosaic, I will find the **average** pixel color of everyone one of your tile images. \n"
   ]
  },
  {
   "cell_type": "markdown",
   "metadata": {},
   "source": [
    "width = len()\n",
    "width"
   ]
  },
  {
   "cell_type": "code",
   "execution_count": 16,
   "metadata": {},
   "outputs": [
    {
     "data": {
      "text/plain": [
       "3"
      ]
     },
     "execution_count": 16,
     "metadata": {},
     "output_type": "execute_result"
    }
   ],
   "source": [
    "height = len(image[0])\n",
    "height"
   ]
  },
  {
   "cell_type": "code",
   "execution_count": 17,
   "metadata": {},
   "outputs": [
    {
     "data": {
      "text/html": [
       "<div>\n",
       "<style scoped>\n",
       "    .dataframe tbody tr th:only-of-type {\n",
       "        vertical-align: middle;\n",
       "    }\n",
       "\n",
       "    .dataframe tbody tr th {\n",
       "        vertical-align: top;\n",
       "    }\n",
       "\n",
       "    .dataframe thead th {\n",
       "        text-align: right;\n",
       "    }\n",
       "</style>\n",
       "<table border=\"1\" class=\"dataframe\">\n",
       "  <thead>\n",
       "    <tr style=\"text-align: right;\">\n",
       "      <th></th>\n",
       "      <th>r</th>\n",
       "      <th>g</th>\n",
       "      <th>b</th>\n",
       "      <th>x</th>\n",
       "      <th>y</th>\n",
       "    </tr>\n",
       "  </thead>\n",
       "  <tbody>\n",
       "    <tr>\n",
       "      <th>0</th>\n",
       "      <td>32.295673</td>\n",
       "      <td>79.185591</td>\n",
       "      <td>-107.857300</td>\n",
       "      <td>0</td>\n",
       "      <td>0</td>\n",
       "    </tr>\n",
       "    <tr>\n",
       "      <th>1</th>\n",
       "      <td>100.000000</td>\n",
       "      <td>-0.002455</td>\n",
       "      <td>0.004653</td>\n",
       "      <td>1</td>\n",
       "      <td>0</td>\n",
       "    </tr>\n",
       "    <tr>\n",
       "      <th>2</th>\n",
       "      <td>53.240588</td>\n",
       "      <td>80.092308</td>\n",
       "      <td>67.202751</td>\n",
       "      <td>2</td>\n",
       "      <td>0</td>\n",
       "    </tr>\n",
       "  </tbody>\n",
       "</table>\n",
       "</div>"
      ],
      "text/plain": [
       "            r          g           b  x  y\n",
       "0   32.295673  79.185591 -107.857300  0  0\n",
       "1  100.000000  -0.002455    0.004653  1  0\n",
       "2   53.240588  80.092308   67.202751  2  0"
      ]
     },
     "execution_count": 17,
     "metadata": {},
     "output_type": "execute_result"
    }
   ],
   "source": [
    "import pandas as pd\n",
    "import random\n",
    "data = []\n",
    "for x in range (len(image)):\n",
    "    pixel = image[x][0]\n",
    "    r = pixel[0]\n",
    "    g = pixel[1]\n",
    "    b = pixel[2]\n",
    "    d = {\"r\" : r, \"g\" : g, \"b\" : b, \"x\" : x, \"y\" : 0}\n",
    "    data.append(d)\n",
    "\n",
    "df = pd.DataFrame(data)\n",
    "df"
   ]
  },
  {
   "cell_type": "code",
   "execution_count": 18,
   "metadata": {},
   "outputs": [
    {
     "name": "stdout",
     "output_type": "stream",
     "text": [
      "✅ `df` contains the correct number of observations.\n",
      "❌ `df` has incorrect data.\n"
     ]
    }
   ],
   "source": [
    "# == TEST CASE for Section 2.4 ==\n",
    "# - Checks to ensure the DataFrame contains the correct variables and pixel data\n",
    "script.run_test_case_2d(df)"
   ]
  },
  {
   "cell_type": "code",
   "execution_count": 19,
   "metadata": {},
   "outputs": [],
   "source": [
    "             \n",
    "data = []\n",
    "for x in range (len(image)):\n",
    "    for y in range (len(image[0])):\n",
    "        pixel = image[x][y]\n",
    "        r = pixel[0]\n",
    "        g = pixel[1]\n",
    "        b = pixel[2]\n",
    "        d = {\"r\" : r, \"g\" : g, \"b\" : b, \"x\" : x, \"y\" : y}\n",
    "        data.append(d)\n",
    "    \n",
    "df = pd.DataFrame(data)"
   ]
  },
  {
   "cell_type": "code",
   "execution_count": 20,
   "metadata": {},
   "outputs": [
    {
     "data": {
      "text/html": [
       "<div>\n",
       "<style scoped>\n",
       "    .dataframe tbody tr th:only-of-type {\n",
       "        vertical-align: middle;\n",
       "    }\n",
       "\n",
       "    .dataframe tbody tr th {\n",
       "        vertical-align: top;\n",
       "    }\n",
       "\n",
       "    .dataframe thead th {\n",
       "        text-align: right;\n",
       "    }\n",
       "</style>\n",
       "<table border=\"1\" class=\"dataframe\">\n",
       "  <thead>\n",
       "    <tr style=\"text-align: right;\">\n",
       "      <th></th>\n",
       "      <th>r</th>\n",
       "      <th>g</th>\n",
       "      <th>b</th>\n",
       "      <th>x</th>\n",
       "      <th>y</th>\n",
       "    </tr>\n",
       "  </thead>\n",
       "  <tbody>\n",
       "    <tr>\n",
       "      <th>0</th>\n",
       "      <td>32.295673</td>\n",
       "      <td>79.185591</td>\n",
       "      <td>-107.857300</td>\n",
       "      <td>0</td>\n",
       "      <td>0</td>\n",
       "    </tr>\n",
       "    <tr>\n",
       "      <th>1</th>\n",
       "      <td>87.735099</td>\n",
       "      <td>-86.183030</td>\n",
       "      <td>83.179703</td>\n",
       "      <td>0</td>\n",
       "      <td>1</td>\n",
       "    </tr>\n",
       "    <tr>\n",
       "      <th>2</th>\n",
       "      <td>100.000000</td>\n",
       "      <td>-0.002455</td>\n",
       "      <td>0.004653</td>\n",
       "      <td>0</td>\n",
       "      <td>2</td>\n",
       "    </tr>\n",
       "    <tr>\n",
       "      <th>3</th>\n",
       "      <td>100.000000</td>\n",
       "      <td>-0.002455</td>\n",
       "      <td>0.004653</td>\n",
       "      <td>1</td>\n",
       "      <td>0</td>\n",
       "    </tr>\n",
       "    <tr>\n",
       "      <th>4</th>\n",
       "      <td>0.000000</td>\n",
       "      <td>0.000000</td>\n",
       "      <td>0.000000</td>\n",
       "      <td>1</td>\n",
       "      <td>1</td>\n",
       "    </tr>\n",
       "    <tr>\n",
       "      <th>5</th>\n",
       "      <td>59.853405</td>\n",
       "      <td>62.704714</td>\n",
       "      <td>56.350318</td>\n",
       "      <td>1</td>\n",
       "      <td>2</td>\n",
       "    </tr>\n",
       "    <tr>\n",
       "      <th>6</th>\n",
       "      <td>53.240588</td>\n",
       "      <td>80.092308</td>\n",
       "      <td>67.202751</td>\n",
       "      <td>2</td>\n",
       "      <td>0</td>\n",
       "    </tr>\n",
       "    <tr>\n",
       "      <th>7</th>\n",
       "      <td>100.000000</td>\n",
       "      <td>-0.002455</td>\n",
       "      <td>0.004653</td>\n",
       "      <td>2</td>\n",
       "      <td>1</td>\n",
       "    </tr>\n",
       "    <tr>\n",
       "      <th>8</th>\n",
       "      <td>16.660797</td>\n",
       "      <td>4.488003</td>\n",
       "      <td>-23.666010</td>\n",
       "      <td>2</td>\n",
       "      <td>2</td>\n",
       "    </tr>\n",
       "  </tbody>\n",
       "</table>\n",
       "</div>"
      ],
      "text/plain": [
       "            r          g           b  x  y\n",
       "0   32.295673  79.185591 -107.857300  0  0\n",
       "1   87.735099 -86.183030   83.179703  0  1\n",
       "2  100.000000  -0.002455    0.004653  0  2\n",
       "3  100.000000  -0.002455    0.004653  1  0\n",
       "4    0.000000   0.000000    0.000000  1  1\n",
       "5   59.853405  62.704714   56.350318  1  2\n",
       "6   53.240588  80.092308   67.202751  2  0\n",
       "7  100.000000  -0.002455    0.004653  2  1\n",
       "8   16.660797   4.488003  -23.666010  2  2"
      ]
     },
     "execution_count": 20,
     "metadata": {},
     "output_type": "execute_result"
    }
   ],
   "source": [
    "df"
   ]
  },
  {
   "cell_type": "code",
   "execution_count": 21,
   "metadata": {},
   "outputs": [
    {
     "name": "stdout",
     "output_type": "stream",
     "text": [
      "✅ `df` contains the correct number of observations.\n",
      "❌ `df` has incorrect data.\n"
     ]
    }
   ],
   "source": [
    "# == TEST CASE for Section 2.5 ==\n",
    "# - Checks to ensure the DataFrame contains the correct variables and pixel data\n",
    "script.run_test_case_2e(df)"
   ]
  },
  {
   "cell_type": "markdown",
   "metadata": {},
   "source": [
    "<hr style=\"color: #DD3403;\">"
   ]
  },
  {
   "cell_type": "markdown",
   "metadata": {},
   "source": [
    "# Section 3: Creating a ImageToDataFrame Function\n",
    "\n",
    "Now, put everything you've done together into a **function**.\n",
    "\n",
    "- The `loadImageToDataFrame` function takes the name of a file as `fileName`.\n",
    "- You must return a DataFrame that contains the image data.\n",
    "\n",
    "*(You've already done this in the previous sections, you just need to put it inside of a function and return the DataFrame.)*"
   ]
  },
  {
   "cell_type": "code",
   "execution_count": 22,
   "metadata": {},
   "outputs": [],
   "source": [
    "def loadImageToDataFrame(fileName):\n",
    "    data = []\n",
    "    image = script.loadImage(fileName)\n",
    "    for x in range (len(image)):\n",
    "        for y in range (len(image[0])):\n",
    "            pixel = image[x][y]\n",
    "            r = pixel[0]\n",
    "            g = pixel[1]\n",
    "            b = pixel[2]\n",
    "            d = {\"r\" : r, \"g\" : g, \"b\" : b, \"x\" : x, \"y\" : y}\n",
    "            data.append(d)\n",
    "    df = pd.DataFrame(data)\n",
    "    return df\n",
    "    \n"
   ]
  },
  {
   "cell_type": "code",
   "execution_count": 23,
   "metadata": {},
   "outputs": [
    {
     "name": "stdout",
     "output_type": "stream",
     "text": [
      "✅ `df` looks good!\n",
      "🎉 All tests passed! 🎉\n"
     ]
    }
   ],
   "source": [
    "# == TEST CASE for Section 3 ==\n",
    "# - Checks to ensure the DataFrame contains the correct variables and pixel data\n",
    "script.run_test_case_3(loadImageToDataFrame)"
   ]
  },
  {
   "cell_type": "markdown",
   "metadata": {},
   "source": [
    "<hr style=\"color: #DD3403;\">"
   ]
  },
  {
   "cell_type": "markdown",
   "metadata": {},
   "source": [
    "# Find the Average Color of an Image\n"
   ]
  },
  {
   "cell_type": "code",
   "execution_count": 24,
   "metadata": {},
   "outputs": [],
   "source": [
    "def findAverageImageColor(image):\n",
    "    data = []\n",
    "    sum_r = 0\n",
    "    sum_g = 0\n",
    "    sum_b = 0\n",
    "    for x in range (len(image)):\n",
    "        for y in range (len(image[0])):\n",
    "            pixel = image[x][y]\n",
    "            r = pixel[0]\n",
    "            g = pixel[1]\n",
    "            b = pixel[2]\n",
    "            sum_r = sum_r + r\n",
    "            sum_g = sum_g + g\n",
    "            sum_b = sum_b + b\n",
    "            avg_r = sum_r / ((len(image))*(len(image[0])))\n",
    "            avg_g = sum_g / ((len(image))*(len(image[0])))\n",
    "            avg_b = sum_b / ((len(image))*(len(image[0])))\n",
    "            d = {\"avg_r\" : avg_r, \"avg_g\" : avg_g, \"avg_b\" : avg_b}\n",
    "    return d\n",
    "\n",
    "\n",
    "\n"
   ]
  },
  {
   "cell_type": "code",
   "execution_count": 25,
   "metadata": {},
   "outputs": [
    {
     "name": "stdout",
     "output_type": "stream",
     "text": [
      "✅ Dictionary contain the key `avg_r`.\n",
      "✅ Dictionary contain the key `avg_g`.\n",
      "✅ Dictionary contain the key `avg_b`.\n",
      "✅ Looks good!\n",
      "🎉 All tests passed! 🎉\n"
     ]
    }
   ],
   "source": [
    "# == TEST CASE for Section 4 ==\n",
    "# - Checks to ensure the DataFrame contains the correct variables and pixel data\n",
    "script.run_test_case_4(findAverageImageColor)"
   ]
  },
  {
   "cell_type": "markdown",
   "metadata": {},
   "source": [
    "<hr style=\"color: #DD3403;\">"
   ]
  },
  {
   "cell_type": "markdown",
   "metadata": {},
   "source": [
    "# Finding the Average Color of Your Tile Images\n",
    "\n",
    "\n",
    "\n",
    "To create an image mosaic, we need to find the average pixel color of every one of our tile images so that we can know the best tile image to use when we begin to mosaic our image."
   ]
  },
  {
   "cell_type": "code",
   "execution_count": 26,
   "metadata": {},
   "outputs": [],
   "source": [
    "def createTilesDataFrame(path):\n",
    "  data = []\n",
    "\n",
    "  # Loop through all images in the `path` directory:\n",
    "  for tileImageFileName in DISCOVERY.listTileImagesInPath(path):\n",
    "    # Load the image as a DataFrame and find the average color:\n",
    "    image = DISCOVERY.loadImage(tileImageFileName)\n",
    "    averageColor = findAverageImageColor(image)\n",
    "\n",
    "    # Store the fileName and average colors in a dictionary:\n",
    "    d = { \"fileName\": tileImageFileName, \"r\": averageColor[\"avg_r\"], \"g\": averageColor[\"avg_g\"], \"b\": averageColor[\"avg_b\"] }\n",
    "    data.append(d)\n",
    "\n",
    "  # Create the `df_tiles` DataFrame:\n",
    "  df_tiles = pd.DataFrame(data)\n",
    "  return df_tiles\n"
   ]
  },
  {
   "cell_type": "markdown",
   "metadata": {},
   "source": [
    "<hr style=\"color: #DD3403;\">"
   ]
  },
  {
   "cell_type": "markdown",
   "metadata": {},
   "source": [
    "# Splitting Up My Base Image\n",
    "\n",
    "To mosaic an image, we must split the base image into small regions to be replaced with the tile images.  "
   ]
  },
  {
   "cell_type": "code",
   "execution_count": 27,
   "metadata": {},
   "outputs": [],
   "source": [
    "def findAverageImageColorInBox(image, box_x, box_y, box_width, box_height):\n",
    "    sum_r = 0\n",
    "    sum_g = 0\n",
    "    sum_b = 0\n",
    "    for x in range (box_x, box_width + box_x):\n",
    "        for y in range (box_y, box_height + box_y):\n",
    "            pixel = image[x][y]\n",
    "            r = pixel[0]\n",
    "            g = pixel[1]\n",
    "            b = pixel[2]\n",
    "            sum_r = sum_r + r\n",
    "            sum_g = sum_g + g\n",
    "            sum_b = sum_b + b\n",
    "            avg_r = sum_r / ((box_width)*(box_height))\n",
    "            avg_g = sum_g / ((box_width)*(box_height))\n",
    "            avg_b = sum_b / ((box_width)*(box_height))\n",
    "            d1 = {\"avg_r\" : avg_r, \"avg_g\" : avg_g, \"avg_b\" : avg_b}\n",
    "\n",
    "    return d1 \n",
    "    \n",
    "    "
   ]
  },
  {
   "cell_type": "code",
   "execution_count": 28,
   "metadata": {},
   "outputs": [
    {
     "name": "stdout",
     "output_type": "stream",
     "text": [
      "✅ Test case with box_x = 0, box_y = 0, box_width = 2, box_height=2 found returned the correct average color.\n",
      "✅ Test case with box_x = 2, box_y = 0, box_width = 2, box_height=2 found returned the correct average color.\n",
      "✅ Test case with box_x = 2, box_y = 2, box_width = 2, box_height=2 found returned the correct average color.\n",
      "✅ Test case with box_x = 5, box_y = 1, box_width = 2, box_height=2 found returned the correct average color.\n",
      "✅ Test case with box_x = 5, box_y = 1, box_width = 4, box_height=2 found returned the correct average color.\n",
      "✅ Test case with box_x = 5, box_y = 1, box_width = 4, box_height=3 found returned the correct average color.\n",
      "🎉 All tests passed! 🎉\n"
     ]
    }
   ],
   "source": [
    "# == TEST CASE for Section 6 ==\n",
    "# - Checks to ensure the DataFrame contains the correct variables and pixel data\n",
    "script.run_test_case_6(findAverageImageColorInBox)"
   ]
  },
  {
   "cell_type": "markdown",
   "metadata": {},
   "source": [
    "<hr style=\"color: #DD3403;\">"
   ]
  },
  {
   "cell_type": "markdown",
   "metadata": {},
   "source": [
    "# Finding the Best Match\n",
    "\n"
   ]
  },
  {
   "cell_type": "code",
   "execution_count": 29,
   "metadata": {},
   "outputs": [],
   "source": [
    "\n",
    "def findBestTile(df_tiles, r_avg, g_avg, b_avg):\n",
    "    df_tiles[\"dist\"] = ((df_tiles.r - r_avg) ** 2 + \n",
    "    (df_tiles.g - g_avg) ** 2 + (df_tiles.b - b_avg) ** 2) ** 0.5\n",
    "    return df_tiles.nsmallest(1, \"dist\")"
   ]
  },
  {
   "cell_type": "code",
   "execution_count": 30,
   "metadata": {},
   "outputs": [
    {
     "name": "stdout",
     "output_type": "stream",
     "text": [
      "✅ Test case #1 (r=0, g=0, b=0) passed!\n",
      "✅ Test case #1 (r=47, g=49, b=38) passed!\n",
      "✅ Test case #1 (r=54, g=49, b=38) passed!\n",
      "✅ Test case #1 (r=54, g=49, b=52) passed!\n",
      "✅ Test case #1 (r=-100, g=-100, b=-100) passed!\n",
      "🎉 All tests passed! 🎉\n"
     ]
    }
   ],
   "source": [
    "import DISCOVERY\n",
    "# == TEST CASE for Section 7 ==\n",
    "# - Checks to ensure the DataFrame contains the correct variables and pixel data\n",
    "DISCOVERY.run_test_case_7(findBestTile)"
   ]
  },
  {
   "cell_type": "markdown",
   "metadata": {},
   "source": [
    "<hr style=\"color: #DD3403;\">"
   ]
  },
  {
   "cell_type": "markdown",
   "metadata": {},
   "source": [
    "# Section 8: Your Mosaic!\n",
    "\n",
    "Time to put everything together!\n",
    "\n",
    "First, let's define some variables that you can configure to make your mosaic uniquely yours:"
   ]
  },
  {
   "cell_type": "code",
   "execution_count": 31,
   "metadata": {},
   "outputs": [],
   "source": [
    "# What is your base image file name?\n",
    "baseImageFileName = \"project_image.png\"\n",
    "\n",
    "# What folder contains your tile images?\n",
    "# - You can change this so you can have multiple different folders of tile images.\n",
    "tileImageFolder = \"tiles\"\n",
    "\n",
    "# What is the maximum number of tiles should your mosaic use across?\n",
    "# - More tiles across will increase the quality of the final image.\n",
    "# - More tiles across will cause your program to run slower.\n",
    "# ...if you have bugs, start this value slow (it won't look great, but it will make it run fast!)\n",
    "# ...a value around 200 usually looks quite good, but play around with this number!\n",
    "maximumTilesX = 200\n",
    "\n",
    "\n",
    "# What height should your tiles be in your mosaic?\n",
    "# - A larger tile image will result in a larger output file.\n",
    "# - A larger tile image will result in your program running slower.\n",
    "# - A larger tile image will result in more detail in the output file.\n",
    "tileHeight = 32"
   ]
  },
  {
   "cell_type": "markdown",
   "metadata": {},
   "source": [
    "## Now create your mosaic!\n",
    "\n",
    "Run the code to create your mosaic.\n",
    "\n",
    "- This **WILL** take a bit of time (even more time on slower/older laptops).\n",
    "- This will run fastest if your laptop is plugged in (when it's unplugged, your laptop will try and save power and may not run at full speed)."
   ]
  },
  {
   "cell_type": "code",
   "execution_count": 32,
   "metadata": {},
   "outputs": [
    {
     "name": "stdout",
     "output_type": "stream",
     "text": [
      "Creating `df_tiles` from tile images in folder `tiles`...\n",
      "...found 221 tile images!\n"
     ]
    },
    {
     "data": {
      "text/html": [
       "<div>\n",
       "<style scoped>\n",
       "    .dataframe tbody tr th:only-of-type {\n",
       "        vertical-align: middle;\n",
       "    }\n",
       "\n",
       "    .dataframe tbody tr th {\n",
       "        vertical-align: top;\n",
       "    }\n",
       "\n",
       "    .dataframe thead th {\n",
       "        text-align: right;\n",
       "    }\n",
       "</style>\n",
       "<table border=\"1\" class=\"dataframe\">\n",
       "  <thead>\n",
       "    <tr style=\"text-align: right;\">\n",
       "      <th></th>\n",
       "      <th>fileName</th>\n",
       "      <th>r</th>\n",
       "      <th>g</th>\n",
       "      <th>b</th>\n",
       "    </tr>\n",
       "  </thead>\n",
       "  <tbody>\n",
       "    <tr>\n",
       "      <th>0</th>\n",
       "      <td>tiles/nathanbracken.jpeg</td>\n",
       "      <td>55.493353</td>\n",
       "      <td>48.045524</td>\n",
       "      <td>38.175340</td>\n",
       "    </tr>\n",
       "    <tr>\n",
       "      <th>1</th>\n",
       "      <td>tiles/anujrawat.jpeg</td>\n",
       "      <td>31.885630</td>\n",
       "      <td>8.139358</td>\n",
       "      <td>9.932830</td>\n",
       "    </tr>\n",
       "    <tr>\n",
       "      <th>2</th>\n",
       "      <td>tiles/929215_352643904900366_812094193_n-9-53.png</td>\n",
       "      <td>90.985313</td>\n",
       "      <td>109.451250</td>\n",
       "      <td>114.871406</td>\n",
       "    </tr>\n",
       "    <tr>\n",
       "      <th>3</th>\n",
       "      <td>tiles/929215_352643904900366_812094193_n-9-47.png</td>\n",
       "      <td>193.850000</td>\n",
       "      <td>144.418750</td>\n",
       "      <td>86.561094</td>\n",
       "    </tr>\n",
       "    <tr>\n",
       "      <th>4</th>\n",
       "      <td>tiles/929215_352643904900366_812094193_n-9-90.png</td>\n",
       "      <td>86.769531</td>\n",
       "      <td>89.240156</td>\n",
       "      <td>84.521563</td>\n",
       "    </tr>\n",
       "    <tr>\n",
       "      <th>...</th>\n",
       "      <td>...</td>\n",
       "      <td>...</td>\n",
       "      <td>...</td>\n",
       "      <td>...</td>\n",
       "    </tr>\n",
       "    <tr>\n",
       "      <th>216</th>\n",
       "      <td>tiles/chirsgayle.jpeg</td>\n",
       "      <td>74.178671</td>\n",
       "      <td>47.960675</td>\n",
       "      <td>42.294325</td>\n",
       "    </tr>\n",
       "    <tr>\n",
       "      <th>217</th>\n",
       "      <td>tiles/929215_352643904900366_812094193_n-9-62.png</td>\n",
       "      <td>71.700955</td>\n",
       "      <td>71.782118</td>\n",
       "      <td>58.846788</td>\n",
       "    </tr>\n",
       "    <tr>\n",
       "      <th>218</th>\n",
       "      <td>tiles/929215_352643904900366_812094193_n-9-76.png</td>\n",
       "      <td>137.425089</td>\n",
       "      <td>124.835503</td>\n",
       "      <td>117.118817</td>\n",
       "    </tr>\n",
       "    <tr>\n",
       "      <th>219</th>\n",
       "      <td>tiles/shivamdube.jpeg</td>\n",
       "      <td>84.977897</td>\n",
       "      <td>66.991647</td>\n",
       "      <td>54.622698</td>\n",
       "    </tr>\n",
       "    <tr>\n",
       "      <th>220</th>\n",
       "      <td>tiles/adammilne.jpeg</td>\n",
       "      <td>65.616627</td>\n",
       "      <td>60.093095</td>\n",
       "      <td>55.038790</td>\n",
       "    </tr>\n",
       "  </tbody>\n",
       "</table>\n",
       "<p>221 rows × 4 columns</p>\n",
       "</div>"
      ],
      "text/plain": [
       "                                              fileName           r  \\\n",
       "0                             tiles/nathanbracken.jpeg   55.493353   \n",
       "1                                 tiles/anujrawat.jpeg   31.885630   \n",
       "2    tiles/929215_352643904900366_812094193_n-9-53.png   90.985313   \n",
       "3    tiles/929215_352643904900366_812094193_n-9-47.png  193.850000   \n",
       "4    tiles/929215_352643904900366_812094193_n-9-90.png   86.769531   \n",
       "..                                                 ...         ...   \n",
       "216                              tiles/chirsgayle.jpeg   74.178671   \n",
       "217  tiles/929215_352643904900366_812094193_n-9-62.png   71.700955   \n",
       "218  tiles/929215_352643904900366_812094193_n-9-76.png  137.425089   \n",
       "219                              tiles/shivamdube.jpeg   84.977897   \n",
       "220                               tiles/adammilne.jpeg   65.616627   \n",
       "\n",
       "              g           b  \n",
       "0     48.045524   38.175340  \n",
       "1      8.139358    9.932830  \n",
       "2    109.451250  114.871406  \n",
       "3    144.418750   86.561094  \n",
       "4     89.240156   84.521563  \n",
       "..          ...         ...  \n",
       "216   47.960675   42.294325  \n",
       "217   71.782118   58.846788  \n",
       "218  124.835503  117.118817  \n",
       "219   66.991647   54.622698  \n",
       "220   60.093095   55.038790  \n",
       "\n",
       "[221 rows x 4 columns]"
      ]
     },
     "execution_count": 32,
     "metadata": {},
     "output_type": "execute_result"
    }
   ],
   "source": [
    "print(f\"Creating `df_tiles` from tile images in folder `{tileImageFolder}`...\")\n",
    "df_tiles = createTilesDataFrame(tileImageFolder)\n",
    "print(f\"...found {len(df_tiles)} tile images!\")\n",
    "df_tiles\n"
   ]
  },
  {
   "cell_type": "code",
   "execution_count": 33,
   "metadata": {},
   "outputs": [
    {
     "name": "stdout",
     "output_type": "stream",
     "text": [
      "Loading your base image `project_image.png`...\n",
      "Finding best replacement image for each tile...\n",
      "  ...progress: 37636 / 37636 (100.00%)\n",
      "\n",
      "🎉 MOSAIC COMPLETE! 🎉\n",
      "- See `mosaic-hq.jpg` to see your HQ moasic! (The file may be HUGE.)\n",
      "- See `mosaic.jpg` to see a moasic best suited for the web (still big, but not HUGE)!\n"
     ]
    }
   ],
   "source": [
    "import sys\n",
    "print(f\"Loading your base image `{baseImageFileName}`...\")\n",
    "baseImage = DISCOVERY.loadImage(baseImageFileName)\n",
    "width = len(baseImage)\n",
    "height = len(baseImage[0])\n",
    "\n",
    "\n",
    "print(f\"Finding best replacement image for each tile...\")\n",
    "# Find the pixelsPerTile to know the pixels used in the base image per mosaic tile:\n",
    "import math\n",
    "\n",
    "pixelsPerTile = int(math.ceil(width / maximumTilesX))\n",
    "width = int(math.floor(width / pixelsPerTile) * pixelsPerTile)\n",
    "height = int(math.floor(height / pixelsPerTile) * pixelsPerTile)\n",
    "tilesX = int(width / pixelsPerTile)\n",
    "tilesY = int(height / pixelsPerTile)\n",
    "\n",
    "# Create the mosaic:\n",
    "from PIL import Image\n",
    "mosaic = Image.new('RGB', (int(tilesX * tileHeight), int(tilesY * tileHeight)))\n",
    "for x in range(0, width, pixelsPerTile):\n",
    "  for y in range(0, height, pixelsPerTile):\n",
    "    avg_color = findAverageImageColorInBox(baseImage, x, y, pixelsPerTile, pixelsPerTile)\n",
    "    replacement = findBestTile(df_tiles, avg_color[\"avg_r\"], avg_color[\"avg_g\"], avg_color[\"avg_b\"])\n",
    "\n",
    "    tile = DISCOVERY.getTileImage(replacement[\"fileName\"].values[0], tileHeight)\n",
    "    mosaic.paste(tile, (int(x / pixelsPerTile) * tileHeight, int(y / pixelsPerTile) * tileHeight))\n",
    "\n",
    "  # Print out a progress message:\n",
    "  curRow = int((x / pixelsPerTile) + 1)\n",
    "  pct = (curRow / tilesX) * 100\n",
    "  sys.stdout.write(f'\\r  ...progress: {curRow * tilesY} / {tilesX * tilesY} ({pct:.2f}%)')\n",
    "\n",
    "# Save it\n",
    "mosaic.save('mosaic-hd.jpg')\n",
    "\n",
    "# Save a smaller one (for posting):\n",
    "import PIL\n",
    "d = max(width, height)\n",
    "factor = d / 4000\n",
    "if factor <= 1: factor = 1\n",
    "\n",
    "small_w = width / factor\n",
    "small_h = height / factor    \n",
    "baseImage = mosaic.resize( (int(small_w), int(small_h)), resample=PIL.Image.LANCZOS )\n",
    "baseImage.save('mosaic-web.jpg')\n",
    "\n",
    "# Print a message:\n",
    "tada = \"\\N{PARTY POPPER}\"\n",
    "print(\"\")\n",
    "print(\"\")\n",
    "print(f\"{tada} MOSAIC COMPLETE! {tada}\")\n",
    "print(\"- See `mosaic-hq.jpg` to see your HQ moasic! (The file may be HUGE.)\")\n",
    "print(\"- See `mosaic.jpg` to see a moasic best suited for the web (still big, but not HUGE)!\")"
   ]
  },
  {
   "cell_type": "markdown",
   "metadata": {},
   "source": [
    "<hr style=\"color: #DD3403;\">"
   ]
  },
  {
   "cell_type": "markdown",
   "metadata": {},
   "source": [
    "# Section 9: Extra Credit\n",
    "\n",
    "So your mosaic is fantastic -- but I think you can make it can be **even MORE fantastic**!  If you have ideas of how to improve your mosaic, use the following cells to re-program a function or otherwise change your logic and then re-create your mosaic.\n",
    "\n",
    "If you're not sure and want some inspiration, visit **#project-extra-credit**.  We'll work together on ideas -- after the first week, we will share some of our ideas.  Be sure to look at the **pinned messages** on the channel for suggestions that we find to be really good ways of improving the mosaic!  (We have a few in mind as we write this, but there's probably even more!  You should aim to have fun!)"
   ]
  },
  {
   "cell_type": "code",
   "execution_count": 34,
   "metadata": {},
   "outputs": [],
   "source": [
    "# Use these cells to add your extra credit code.\n",
    "# ...and feel free to add more cells! :)\n",
    "def createTilesDataFrame(path):\n",
    "  data = []\n",
    "\n",
    "  # Loop through all images in the `path` directory:\n",
    "  for tileImageFileName in DISCOVERY.listTileImagesInPath(path):\n",
    "    # Load the image as a DataFrame and find the average color:\n",
    "    image = DISCOVERY.loadImage(\"project_image.png\", format = \"Lab\")\n",
    "    averageColor = findAverageImageColor(image)\n",
    "\n",
    "    # Store the fileName and average colors in a dictionary:\n",
    "    d = { \"fileName\": tileImageFileName, \"r\": averageColor[\"avg_r\"], \"g\": averageColor[\"avg_g\"], \"b\": averageColor[\"avg_b\"] }\n",
    "    data.append(d)\n",
    "\n",
    "  # Create the `df_tiles` DataFrame:\n",
    "  df_tiles = pd.DataFrame(data)\n",
    "  return df_tiles\n"
   ]
  },
  {
   "cell_type": "markdown",
   "metadata": {},
   "source": [
    "<hr style=\"color: #DD3403;\">"
   ]
  },
  {
   "cell_type": "markdown",
   "metadata": {},
   "source": [
    "# Section 10: Submission\n",
    "\n",
    "We would love you to share your mosaic!  It's not required, but we have discord channel `#project-showcase` just to show off your mosaic -- add yours there and check out others!\n",
    "\n",
    "It is required to turn in your project, which you can do with the usual commands:\n",
    "\n",
    "```\n",
    "git add -A\n",
    "git commit -m \"project1\"\n",
    "git push\n",
    "```"
   ]
  }
 ],
 "metadata": {
  "kernelspec": {
   "display_name": "Python 3.7.9 64-bit",
   "language": "python",
   "name": "python3"
  },
  "language_info": {
   "codemirror_mode": {
    "name": "ipython",
    "version": 3
   },
   "file_extension": ".py",
   "mimetype": "text/x-python",
   "name": "python",
   "nbconvert_exporter": "python",
   "pygments_lexer": "ipython3",
   "version": "3.7.9"
  },
  "vscode": {
   "interpreter": {
    "hash": "aee8b7b246df8f9039afb4144a1f6fd8d2ca17a180786b69acc140d282b71a49"
   }
  }
 },
 "nbformat": 4,
 "nbformat_minor": 2
}
