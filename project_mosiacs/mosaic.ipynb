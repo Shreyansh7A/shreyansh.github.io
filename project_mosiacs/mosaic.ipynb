{
 "cells": [
  {
   "cell_type": "markdown",
   "metadata": {},
   "source": [
    "# Project Mosaic"
   ]
  },
  {
   "cell_type": "code",
   "execution_count": 1,
   "metadata": {},
   "outputs": [
    {
     "name": "stdout",
     "output_type": "stream",
     "text": [
      "Requirement already satisfied: pandas in /Library/Frameworks/Python.framework/Versions/3.11/lib/python3.11/site-packages (1.5.3)\n",
      "Requirement already satisfied: python-dateutil>=2.8.1 in /Library/Frameworks/Python.framework/Versions/3.11/lib/python3.11/site-packages (from pandas) (2.8.2)\n",
      "Requirement already satisfied: pytz>=2020.1 in /Library/Frameworks/Python.framework/Versions/3.11/lib/python3.11/site-packages (from pandas) (2023.3.post1)\n",
      "Requirement already satisfied: numpy>=1.21.0 in /Library/Frameworks/Python.framework/Versions/3.11/lib/python3.11/site-packages (from pandas) (1.26.1)\n",
      "Requirement already satisfied: six>=1.5 in /Library/Frameworks/Python.framework/Versions/3.11/lib/python3.11/site-packages (from python-dateutil>=2.8.1->pandas) (1.16.0)\n",
      "\n",
      "\u001b[1m[\u001b[0m\u001b[34;49mnotice\u001b[0m\u001b[1;39;49m]\u001b[0m\u001b[39;49m A new release of pip is available: \u001b[0m\u001b[31;49m24.0\u001b[0m\u001b[39;49m -> \u001b[0m\u001b[32;49m24.3.1\u001b[0m\n",
      "\u001b[1m[\u001b[0m\u001b[34;49mnotice\u001b[0m\u001b[1;39;49m]\u001b[0m\u001b[39;49m To update, run: \u001b[0m\u001b[32;49mpip install --upgrade pip\u001b[0m\n"
     ]
    }
   ],
   "source": [
    "!pip install pandas"
   ]
  },
  {
   "cell_type": "code",
   "execution_count": 5,
   "metadata": {},
   "outputs": [
    {
     "data": {
      "text/plain": [
       "array([[[ 3.22956726e+01,  7.91855909e+01, -1.07857300e+02],\n",
       "        [ 8.77350995e+01, -8.61830297e+01,  8.31797032e+01],\n",
       "        [ 1.00000000e+02, -2.45493786e-03,  4.65342115e-03]],\n",
       "\n",
       "       [[ 1.00000000e+02, -2.45493786e-03,  4.65342115e-03],\n",
       "        [ 0.00000000e+00,  0.00000000e+00,  0.00000000e+00],\n",
       "        [ 5.98534047e+01,  6.27047139e+01,  5.63503180e+01]],\n",
       "\n",
       "       [[ 5.32405879e+01,  8.00923082e+01,  6.72027510e+01],\n",
       "        [ 1.00000000e+02, -2.45493786e-03,  4.65342115e-03],\n",
       "        [ 1.66607971e+01,  4.48800286e+00, -2.36660104e+01]]])"
      ]
     },
     "execution_count": 5,
     "metadata": {},
     "output_type": "execute_result"
    }
   ],
   "source": [
    "import script\n",
    "import pandas as pd\n",
    "image = script.loadImage(\"sample.png\", format = \"Lab\")\n",
    "image"
   ]
  },
  {
   "cell_type": "code",
   "execution_count": 8,
   "metadata": {},
   "outputs": [
    {
     "data": {
      "text/plain": [
       "array([ 87.73509949, -86.18302974,  83.17970318])"
      ]
     },
     "execution_count": 8,
     "metadata": {},
     "output_type": "execute_result"
    }
   ],
   "source": [
    "green_pixel = image[0][1]\n",
    "green_pixel"
   ]
  },
  {
   "cell_type": "markdown",
   "metadata": {},
   "source": [
    "<hr style=\"color: #DD3403;\">"
   ]
  },
  {
   "cell_type": "markdown",
   "metadata": {},
   "source": [
    "# Section 2: Accessing Color Data\n",
    "\n",
    "Every color visible on a computer screen is made up of the three **primary colors of light** -- red, green, and blue.  Your monitor displays color by varying the intensity of the red light, green light, and blue light emitted for every pixel on your screen.  Since images are primary displayed on computer screens, the **default color space is to represent colors as red, green, and blue**.\n"
   ]
  },
  {
   "cell_type": "code",
   "execution_count": 9,
   "metadata": {},
   "outputs": [
    {
     "data": {
      "text/plain": [
       "array([59.85340474, 62.70471393, 56.35031805])"
      ]
     },
     "execution_count": 9,
     "metadata": {},
     "output_type": "execute_result"
    }
   ],
   "source": [
    "illini_orange_pixel = image[1][2]\n",
    "illini_orange_pixel"
   ]
  },
  {
   "cell_type": "code",
   "execution_count": 10,
   "metadata": {},
   "outputs": [
    {
     "data": {
      "text/plain": [
       "59.853404738030065"
      ]
     },
     "execution_count": 10,
     "metadata": {},
     "output_type": "execute_result"
    }
   ],
   "source": [
    "red = illini_orange_pixel[0]\n",
    "red"
   ]
  },
  {
   "cell_type": "code",
   "execution_count": 11,
   "metadata": {},
   "outputs": [
    {
     "data": {
      "text/plain": [
       "62.704713934425506"
      ]
     },
     "execution_count": 11,
     "metadata": {},
     "output_type": "execute_result"
    }
   ],
   "source": [
    "green = illini_orange_pixel[1]\n",
    "green"
   ]
  },
  {
   "cell_type": "code",
   "execution_count": 12,
   "metadata": {},
   "outputs": [
    {
     "data": {
      "text/plain": [
       "56.35031804815643"
      ]
     },
     "execution_count": 12,
     "metadata": {},
     "output_type": "execute_result"
    }
   ],
   "source": [
    "blue = illini_orange_pixel[2]\n",
    "blue"
   ]
  },
  {
   "cell_type": "markdown",
   "metadata": {},
   "source": [
    "## Average Pixel Strategy\n",
    "\n",
    "To create the mosaic, I will find the **average** pixel color of everyone one of your tile images. \n"
   ]
  },
  {
   "cell_type": "markdown",
   "metadata": {},
   "source": [
    "width = len()\n",
    "width"
   ]
  },
  {
   "cell_type": "code",
   "execution_count": 13,
   "metadata": {},
   "outputs": [
    {
     "data": {
      "text/plain": [
       "3"
      ]
     },
     "execution_count": 13,
     "metadata": {},
     "output_type": "execute_result"
    }
   ],
   "source": [
    "height = len(image[0])\n",
    "height"
   ]
  },
  {
   "cell_type": "code",
   "execution_count": 14,
   "metadata": {},
   "outputs": [
    {
     "data": {
      "text/html": [
       "<div>\n",
       "<style scoped>\n",
       "    .dataframe tbody tr th:only-of-type {\n",
       "        vertical-align: middle;\n",
       "    }\n",
       "\n",
       "    .dataframe tbody tr th {\n",
       "        vertical-align: top;\n",
       "    }\n",
       "\n",
       "    .dataframe thead th {\n",
       "        text-align: right;\n",
       "    }\n",
       "</style>\n",
       "<table border=\"1\" class=\"dataframe\">\n",
       "  <thead>\n",
       "    <tr style=\"text-align: right;\">\n",
       "      <th></th>\n",
       "      <th>r</th>\n",
       "      <th>g</th>\n",
       "      <th>b</th>\n",
       "      <th>x</th>\n",
       "      <th>y</th>\n",
       "    </tr>\n",
       "  </thead>\n",
       "  <tbody>\n",
       "    <tr>\n",
       "      <th>0</th>\n",
       "      <td>32.295673</td>\n",
       "      <td>79.185591</td>\n",
       "      <td>-107.857300</td>\n",
       "      <td>0</td>\n",
       "      <td>0</td>\n",
       "    </tr>\n",
       "    <tr>\n",
       "      <th>1</th>\n",
       "      <td>100.000000</td>\n",
       "      <td>-0.002455</td>\n",
       "      <td>0.004653</td>\n",
       "      <td>1</td>\n",
       "      <td>0</td>\n",
       "    </tr>\n",
       "    <tr>\n",
       "      <th>2</th>\n",
       "      <td>53.240588</td>\n",
       "      <td>80.092308</td>\n",
       "      <td>67.202751</td>\n",
       "      <td>2</td>\n",
       "      <td>0</td>\n",
       "    </tr>\n",
       "  </tbody>\n",
       "</table>\n",
       "</div>"
      ],
      "text/plain": [
       "            r          g           b  x  y\n",
       "0   32.295673  79.185591 -107.857300  0  0\n",
       "1  100.000000  -0.002455    0.004653  1  0\n",
       "2   53.240588  80.092308   67.202751  2  0"
      ]
     },
     "execution_count": 14,
     "metadata": {},
     "output_type": "execute_result"
    }
   ],
   "source": [
    "import pandas as pd\n",
    "import random\n",
    "data = []\n",
    "for x in range (len(image)):\n",
    "    pixel = image[x][0]\n",
    "    r = pixel[0]\n",
    "    g = pixel[1]\n",
    "    b = pixel[2]\n",
    "    d = {\"r\" : r, \"g\" : g, \"b\" : b, \"x\" : x, \"y\" : 0}\n",
    "    data.append(d)\n",
    "\n",
    "df = pd.DataFrame(data)\n",
    "df"
   ]
  },
  {
   "cell_type": "code",
   "execution_count": 16,
   "metadata": {},
   "outputs": [],
   "source": [
    "             \n",
    "data = []\n",
    "for x in range (len(image)):\n",
    "    for y in range (len(image[0])):\n",
    "        pixel = image[x][y]\n",
    "        r = pixel[0]\n",
    "        g = pixel[1]\n",
    "        b = pixel[2]\n",
    "        d = {\"r\" : r, \"g\" : g, \"b\" : b, \"x\" : x, \"y\" : y}\n",
    "        data.append(d)\n",
    "    \n",
    "df = pd.DataFrame(data)"
   ]
  },
  {
   "cell_type": "code",
   "execution_count": 17,
   "metadata": {},
   "outputs": [
    {
     "data": {
      "text/html": [
       "<div>\n",
       "<style scoped>\n",
       "    .dataframe tbody tr th:only-of-type {\n",
       "        vertical-align: middle;\n",
       "    }\n",
       "\n",
       "    .dataframe tbody tr th {\n",
       "        vertical-align: top;\n",
       "    }\n",
       "\n",
       "    .dataframe thead th {\n",
       "        text-align: right;\n",
       "    }\n",
       "</style>\n",
       "<table border=\"1\" class=\"dataframe\">\n",
       "  <thead>\n",
       "    <tr style=\"text-align: right;\">\n",
       "      <th></th>\n",
       "      <th>r</th>\n",
       "      <th>g</th>\n",
       "      <th>b</th>\n",
       "      <th>x</th>\n",
       "      <th>y</th>\n",
       "    </tr>\n",
       "  </thead>\n",
       "  <tbody>\n",
       "    <tr>\n",
       "      <th>0</th>\n",
       "      <td>32.295673</td>\n",
       "      <td>79.185591</td>\n",
       "      <td>-107.857300</td>\n",
       "      <td>0</td>\n",
       "      <td>0</td>\n",
       "    </tr>\n",
       "    <tr>\n",
       "      <th>1</th>\n",
       "      <td>87.735099</td>\n",
       "      <td>-86.183030</td>\n",
       "      <td>83.179703</td>\n",
       "      <td>0</td>\n",
       "      <td>1</td>\n",
       "    </tr>\n",
       "    <tr>\n",
       "      <th>2</th>\n",
       "      <td>100.000000</td>\n",
       "      <td>-0.002455</td>\n",
       "      <td>0.004653</td>\n",
       "      <td>0</td>\n",
       "      <td>2</td>\n",
       "    </tr>\n",
       "    <tr>\n",
       "      <th>3</th>\n",
       "      <td>100.000000</td>\n",
       "      <td>-0.002455</td>\n",
       "      <td>0.004653</td>\n",
       "      <td>1</td>\n",
       "      <td>0</td>\n",
       "    </tr>\n",
       "    <tr>\n",
       "      <th>4</th>\n",
       "      <td>0.000000</td>\n",
       "      <td>0.000000</td>\n",
       "      <td>0.000000</td>\n",
       "      <td>1</td>\n",
       "      <td>1</td>\n",
       "    </tr>\n",
       "    <tr>\n",
       "      <th>5</th>\n",
       "      <td>59.853405</td>\n",
       "      <td>62.704714</td>\n",
       "      <td>56.350318</td>\n",
       "      <td>1</td>\n",
       "      <td>2</td>\n",
       "    </tr>\n",
       "    <tr>\n",
       "      <th>6</th>\n",
       "      <td>53.240588</td>\n",
       "      <td>80.092308</td>\n",
       "      <td>67.202751</td>\n",
       "      <td>2</td>\n",
       "      <td>0</td>\n",
       "    </tr>\n",
       "    <tr>\n",
       "      <th>7</th>\n",
       "      <td>100.000000</td>\n",
       "      <td>-0.002455</td>\n",
       "      <td>0.004653</td>\n",
       "      <td>2</td>\n",
       "      <td>1</td>\n",
       "    </tr>\n",
       "    <tr>\n",
       "      <th>8</th>\n",
       "      <td>16.660797</td>\n",
       "      <td>4.488003</td>\n",
       "      <td>-23.666010</td>\n",
       "      <td>2</td>\n",
       "      <td>2</td>\n",
       "    </tr>\n",
       "  </tbody>\n",
       "</table>\n",
       "</div>"
      ],
      "text/plain": [
       "            r          g           b  x  y\n",
       "0   32.295673  79.185591 -107.857300  0  0\n",
       "1   87.735099 -86.183030   83.179703  0  1\n",
       "2  100.000000  -0.002455    0.004653  0  2\n",
       "3  100.000000  -0.002455    0.004653  1  0\n",
       "4    0.000000   0.000000    0.000000  1  1\n",
       "5   59.853405  62.704714   56.350318  1  2\n",
       "6   53.240588  80.092308   67.202751  2  0\n",
       "7  100.000000  -0.002455    0.004653  2  1\n",
       "8   16.660797   4.488003  -23.666010  2  2"
      ]
     },
     "execution_count": 17,
     "metadata": {},
     "output_type": "execute_result"
    }
   ],
   "source": [
    "df"
   ]
  },
  {
   "cell_type": "markdown",
   "metadata": {},
   "source": [
    "<hr style=\"color: #DD3403;\">"
   ]
  },
  {
   "cell_type": "markdown",
   "metadata": {},
   "source": [
    "# Section 3: Creating a ImageToDataFrame Function\n",
    "\n",
    "Now, put everything you've done together into a **function**.\n",
    "\n",
    "- The `loadImageToDataFrame` function takes the name of a file as `fileName`.\n",
    "- You must return a DataFrame that contains the image data.\n",
    "\n",
    "*(You've already done this in the previous sections, you just need to put it inside of a function and return the DataFrame.)*"
   ]
  },
  {
   "cell_type": "code",
   "execution_count": 19,
   "metadata": {},
   "outputs": [],
   "source": [
    "def loadImageToDataFrame(fileName):\n",
    "    data = []\n",
    "    image = script.loadImage(fileName)\n",
    "    for x in range (len(image)):\n",
    "        for y in range (len(image[0])):\n",
    "            pixel = image[x][y]\n",
    "            r = pixel[0]\n",
    "            g = pixel[1]\n",
    "            b = pixel[2]\n",
    "            d = {\"r\" : r, \"g\" : g, \"b\" : b, \"x\" : x, \"y\" : y}\n",
    "            data.append(d)\n",
    "    df = pd.DataFrame(data)\n",
    "    return df\n",
    "    \n"
   ]
  },
  {
   "cell_type": "markdown",
   "metadata": {},
   "source": [
    "<hr style=\"color: #DD3403;\">"
   ]
  },
  {
   "cell_type": "markdown",
   "metadata": {},
   "source": [
    "# Find the Average Color of an Image\n"
   ]
  },
  {
   "cell_type": "code",
   "execution_count": 20,
   "metadata": {},
   "outputs": [],
   "source": [
    "def findAverageImageColor(image):\n",
    "    data = []\n",
    "    sum_r = 0\n",
    "    sum_g = 0\n",
    "    sum_b = 0\n",
    "    for x in range (len(image)):\n",
    "        for y in range (len(image[0])):\n",
    "            pixel = image[x][y]\n",
    "            r = pixel[0]\n",
    "            g = pixel[1]\n",
    "            b = pixel[2]\n",
    "            sum_r = sum_r + r\n",
    "            sum_g = sum_g + g\n",
    "            sum_b = sum_b + b\n",
    "            avg_r = sum_r / ((len(image))*(len(image[0])))\n",
    "            avg_g = sum_g / ((len(image))*(len(image[0])))\n",
    "            avg_b = sum_b / ((len(image))*(len(image[0])))\n",
    "            d = {\"avg_r\" : avg_r, \"avg_g\" : avg_g, \"avg_b\" : avg_b}\n",
    "    return d\n",
    "\n",
    "\n",
    "\n"
   ]
  },
  {
   "cell_type": "markdown",
   "metadata": {},
   "source": [
    "<hr style=\"color: #DD3403;\">"
   ]
  },
  {
   "cell_type": "markdown",
   "metadata": {},
   "source": [
    "# Finding the Average Color of Your Tile Images\n",
    "\n",
    "\n",
    "\n",
    "To create an image mosaic, we need to find the average pixel color of every one of our tile images so that we can know the best tile image to use when we begin to mosaic our image."
   ]
  },
  {
   "cell_type": "code",
   "execution_count": 21,
   "metadata": {},
   "outputs": [],
   "source": [
    "def createTilesDataFrame(path):\n",
    "  data = []\n",
    "\n",
    "  # Loop through all images in the `path` directory:\n",
    "  for tileImageFileName in script.listTileImagesInPath(path):\n",
    "    # Load the image as a DataFrame and find the average color:\n",
    "    image = script.loadImage(tileImageFileName)\n",
    "    averageColor = findAverageImageColor(image)\n",
    "\n",
    "    # Store the fileName and average colors in a dictionary:\n",
    "    d = { \"fileName\": tileImageFileName, \"r\": averageColor[\"avg_r\"], \"g\": averageColor[\"avg_g\"], \"b\": averageColor[\"avg_b\"] }\n",
    "    data.append(d)\n",
    "\n",
    "  # Create the `df_tiles` DataFrame:\n",
    "  df_tiles = pd.DataFrame(data)\n",
    "  return df_tiles\n"
   ]
  },
  {
   "cell_type": "markdown",
   "metadata": {},
   "source": [
    "<hr style=\"color: #DD3403;\">"
   ]
  },
  {
   "cell_type": "markdown",
   "metadata": {},
   "source": [
    "# Splitting Up My Base Image\n",
    "\n",
    "To mosaic an image, we must split the base image into small regions to be replaced with the tile images.  "
   ]
  },
  {
   "cell_type": "code",
   "execution_count": 22,
   "metadata": {},
   "outputs": [],
   "source": [
    "def findAverageImageColorInBox(image, box_x, box_y, box_width, box_height):\n",
    "    sum_r = 0\n",
    "    sum_g = 0\n",
    "    sum_b = 0\n",
    "    for x in range (box_x, box_width + box_x):\n",
    "        for y in range (box_y, box_height + box_y):\n",
    "            pixel = image[x][y]\n",
    "            r = pixel[0]\n",
    "            g = pixel[1]\n",
    "            b = pixel[2]\n",
    "            sum_r = sum_r + r\n",
    "            sum_g = sum_g + g\n",
    "            sum_b = sum_b + b\n",
    "            avg_r = sum_r / ((box_width)*(box_height))\n",
    "            avg_g = sum_g / ((box_width)*(box_height))\n",
    "            avg_b = sum_b / ((box_width)*(box_height))\n",
    "            d1 = {\"avg_r\" : avg_r, \"avg_g\" : avg_g, \"avg_b\" : avg_b}\n",
    "\n",
    "    return d1 \n",
    "    \n",
    "    "
   ]
  },
  {
   "cell_type": "markdown",
   "metadata": {},
   "source": [
    "<hr style=\"color: #DD3403;\">"
   ]
  },
  {
   "cell_type": "markdown",
   "metadata": {},
   "source": [
    "# Finding the Best Match\n",
    "\n"
   ]
  },
  {
   "cell_type": "code",
   "execution_count": 23,
   "metadata": {},
   "outputs": [],
   "source": [
    "\n",
    "def findBestTile(df_tiles, r_avg, g_avg, b_avg):\n",
    "    df_tiles[\"dist\"] = ((df_tiles.r - r_avg) ** 2 + \n",
    "    (df_tiles.g - g_avg) ** 2 + (df_tiles.b - b_avg) ** 2) ** 0.5\n",
    "    return df_tiles.nsmallest(1, \"dist\")"
   ]
  },
  {
   "cell_type": "markdown",
   "metadata": {},
   "source": [
    "<hr style=\"color: #DD3403;\">"
   ]
  },
  {
   "cell_type": "markdown",
   "metadata": {},
   "source": [
    "# My Mosaic!\n",
    "\n",
    "Time to put everything together!"
   ]
  },
  {
   "cell_type": "code",
   "execution_count": 24,
   "metadata": {},
   "outputs": [],
   "source": [
    "\n",
    "baseImageFileName = \"base_image.png\"\n",
    "\n",
    "tileImageFolder = \"illinois-instagram-images\"\n",
    "\n",
    "maximumTilesX = 200\n",
    "\n",
    "tileHeight = 32"
   ]
  },
  {
   "cell_type": "code",
   "execution_count": 25,
   "metadata": {},
   "outputs": [
    {
     "name": "stdout",
     "output_type": "stream",
     "text": [
      "Creating `df_tiles` from tile images in folder `illinois-instagram-images`...\n",
      "...found 1805 tile images!\n"
     ]
    },
    {
     "data": {
      "text/html": [
       "<div>\n",
       "<style scoped>\n",
       "    .dataframe tbody tr th:only-of-type {\n",
       "        vertical-align: middle;\n",
       "    }\n",
       "\n",
       "    .dataframe tbody tr th {\n",
       "        vertical-align: top;\n",
       "    }\n",
       "\n",
       "    .dataframe thead th {\n",
       "        text-align: right;\n",
       "    }\n",
       "</style>\n",
       "<table border=\"1\" class=\"dataframe\">\n",
       "  <thead>\n",
       "    <tr style=\"text-align: right;\">\n",
       "      <th></th>\n",
       "      <th>fileName</th>\n",
       "      <th>r</th>\n",
       "      <th>g</th>\n",
       "      <th>b</th>\n",
       "    </tr>\n",
       "  </thead>\n",
       "  <tbody>\n",
       "    <tr>\n",
       "      <th>0</th>\n",
       "      <td>illinois-instagram-images/12543290_74378294575...</td>\n",
       "      <td>110.011600</td>\n",
       "      <td>104.845222</td>\n",
       "      <td>101.448234</td>\n",
       "    </tr>\n",
       "    <tr>\n",
       "      <th>1</th>\n",
       "      <td>illinois-instagram-images/929215_3526439049003...</td>\n",
       "      <td>152.923130</td>\n",
       "      <td>127.347299</td>\n",
       "      <td>107.686288</td>\n",
       "    </tr>\n",
       "    <tr>\n",
       "      <th>2</th>\n",
       "      <td>illinois-instagram-images/17267774_22718559102...</td>\n",
       "      <td>143.716875</td>\n",
       "      <td>128.833750</td>\n",
       "      <td>127.769531</td>\n",
       "    </tr>\n",
       "    <tr>\n",
       "      <th>3</th>\n",
       "      <td>illinois-instagram-images/11282781_10760168290...</td>\n",
       "      <td>128.718281</td>\n",
       "      <td>137.972500</td>\n",
       "      <td>156.938437</td>\n",
       "    </tr>\n",
       "    <tr>\n",
       "      <th>4</th>\n",
       "      <td>illinois-instagram-images/929215_3526439049003...</td>\n",
       "      <td>96.211562</td>\n",
       "      <td>103.488906</td>\n",
       "      <td>122.779062</td>\n",
       "    </tr>\n",
       "    <tr>\n",
       "      <th>...</th>\n",
       "      <td>...</td>\n",
       "      <td>...</td>\n",
       "      <td>...</td>\n",
       "      <td>...</td>\n",
       "    </tr>\n",
       "    <tr>\n",
       "      <th>1800</th>\n",
       "      <td>illinois-instagram-images/1515111_471984069660...</td>\n",
       "      <td>115.369219</td>\n",
       "      <td>111.500000</td>\n",
       "      <td>107.671406</td>\n",
       "    </tr>\n",
       "    <tr>\n",
       "      <th>1801</th>\n",
       "      <td>illinois-instagram-images/929215_3526439049003...</td>\n",
       "      <td>175.402500</td>\n",
       "      <td>125.611094</td>\n",
       "      <td>99.783125</td>\n",
       "    </tr>\n",
       "    <tr>\n",
       "      <th>1802</th>\n",
       "      <td>illinois-instagram-images/929215_3526439049003...</td>\n",
       "      <td>111.265432</td>\n",
       "      <td>135.198495</td>\n",
       "      <td>139.974537</td>\n",
       "    </tr>\n",
       "    <tr>\n",
       "      <th>1803</th>\n",
       "      <td>illinois-instagram-images/929215_3526439049003...</td>\n",
       "      <td>147.431250</td>\n",
       "      <td>128.500313</td>\n",
       "      <td>77.434219</td>\n",
       "    </tr>\n",
       "    <tr>\n",
       "      <th>1804</th>\n",
       "      <td>illinois-instagram-images/929215_3526439049003...</td>\n",
       "      <td>97.936256</td>\n",
       "      <td>94.817586</td>\n",
       "      <td>81.697657</td>\n",
       "    </tr>\n",
       "  </tbody>\n",
       "</table>\n",
       "<p>1805 rows × 4 columns</p>\n",
       "</div>"
      ],
      "text/plain": [
       "                                               fileName           r  \\\n",
       "0     illinois-instagram-images/12543290_74378294575...  110.011600   \n",
       "1     illinois-instagram-images/929215_3526439049003...  152.923130   \n",
       "2     illinois-instagram-images/17267774_22718559102...  143.716875   \n",
       "3     illinois-instagram-images/11282781_10760168290...  128.718281   \n",
       "4     illinois-instagram-images/929215_3526439049003...   96.211562   \n",
       "...                                                 ...         ...   \n",
       "1800  illinois-instagram-images/1515111_471984069660...  115.369219   \n",
       "1801  illinois-instagram-images/929215_3526439049003...  175.402500   \n",
       "1802  illinois-instagram-images/929215_3526439049003...  111.265432   \n",
       "1803  illinois-instagram-images/929215_3526439049003...  147.431250   \n",
       "1804  illinois-instagram-images/929215_3526439049003...   97.936256   \n",
       "\n",
       "               g           b  \n",
       "0     104.845222  101.448234  \n",
       "1     127.347299  107.686288  \n",
       "2     128.833750  127.769531  \n",
       "3     137.972500  156.938437  \n",
       "4     103.488906  122.779062  \n",
       "...          ...         ...  \n",
       "1800  111.500000  107.671406  \n",
       "1801  125.611094   99.783125  \n",
       "1802  135.198495  139.974537  \n",
       "1803  128.500313   77.434219  \n",
       "1804   94.817586   81.697657  \n",
       "\n",
       "[1805 rows x 4 columns]"
      ]
     },
     "execution_count": 25,
     "metadata": {},
     "output_type": "execute_result"
    }
   ],
   "source": [
    "print(f\"Creating `df_tiles` from tile images in folder `{tileImageFolder}`...\")\n",
    "df_tiles = createTilesDataFrame(tileImageFolder)\n",
    "print(f\"...found {len(df_tiles)} tile images!\")\n",
    "df_tiles\n"
   ]
  },
  {
   "cell_type": "code",
   "execution_count": 26,
   "metadata": {},
   "outputs": [
    {
     "name": "stdout",
     "output_type": "stream",
     "text": [
      "Loading your base image `base_image.png`...\n",
      "Finding best replacement image for each tile...\n",
      "  ...progress: 50700 / 50700 (100.00%)\n",
      "\n",
      "🎉 MOSAIC COMPLETE! 🎉\n",
      "- See `mosaic-hq.jpg` to see your HQ moasic! (The file may be HUGE.)\n",
      "- See `mosaic.jpg` to see a moasic best suited for the web (still big, but not HUGE)!\n"
     ]
    }
   ],
   "source": [
    "from re import S\n",
    "import sys\n",
    "print(f\"Loading your base image `{baseImageFileName}`...\")\n",
    "baseImage = script.loadImage(baseImageFileName)\n",
    "width = len(baseImage)\n",
    "height = len(baseImage[0])\n",
    "\n",
    "\n",
    "print(f\"Finding best replacement image for each tile...\")\n",
    "\n",
    "import math\n",
    "\n",
    "pixelsPerTile = int(math.ceil(width / maximumTilesX))\n",
    "width = int(math.floor(width / pixelsPerTile) * pixelsPerTile)\n",
    "height = int(math.floor(height / pixelsPerTile) * pixelsPerTile)\n",
    "tilesX = int(width / pixelsPerTile)\n",
    "tilesY = int(height / pixelsPerTile)\n",
    "\n",
    "# Create the mosaic:\n",
    "from PIL import Image\n",
    "mosaic = Image.new('RGB', (int(tilesX * tileHeight), int(tilesY * tileHeight)))\n",
    "for x in range(0, width, pixelsPerTile):\n",
    "  for y in range(0, height, pixelsPerTile):\n",
    "    avg_color = findAverageImageColorInBox(baseImage, x, y, pixelsPerTile, pixelsPerTile)\n",
    "    replacement = findBestTile(df_tiles, avg_color[\"avg_r\"], avg_color[\"avg_g\"], avg_color[\"avg_b\"])\n",
    "\n",
    "    tile = script.getTileImage(replacement[\"fileName\"].values[0], tileHeight)\n",
    "    mosaic.paste(tile, (int(x / pixelsPerTile) * tileHeight, int(y / pixelsPerTile) * tileHeight))\n",
    "\n",
    "\n",
    "  curRow = int((x / pixelsPerTile) + 1)\n",
    "  pct = (curRow / tilesX) * 100\n",
    "  sys.stdout.write(f'\\r  ...progress: {curRow * tilesY} / {tilesX * tilesY} ({pct:.2f}%)')\n",
    "\n",
    "\n",
    "mosaic.save('mosaic-hd.jpg')\n",
    "\n",
    "import PIL\n",
    "d = max(width, height)\n",
    "factor = d / 4000\n",
    "if factor <= 1: factor = 1\n",
    "\n",
    "small_w = width / factor\n",
    "small_h = height / factor    \n",
    "baseImage = mosaic.resize( (int(small_w), int(small_h)), resample=PIL.Image.LANCZOS )\n",
    "baseImage.save('mosaic-web.jpg')\n",
    "\n",
    "tada = \"\\N{PARTY POPPER}\"\n",
    "print(\"\")\n",
    "print(\"\")\n",
    "print(f\"{tada} MOSAIC COMPLETE! {tada}\")\n",
    "print(\"- See `mosaic-hq.jpg` to see your HQ moasic! (The file may be HUGE.)\")\n",
    "print(\"- See `mosaic.jpg` to see a moasic best suited for the web (still big, but not HUGE)!\")"
   ]
  },
  {
   "cell_type": "markdown",
   "metadata": {},
   "source": [
    "<hr style=\"color: #DD3403;\">"
   ]
  },
  {
   "cell_type": "code",
   "execution_count": 27,
   "metadata": {},
   "outputs": [],
   "source": [
    "\n",
    "def createTilesDataFrame(path):\n",
    "  data = []\n",
    "\n",
    "  # Loop through all images in the `path` directory:\n",
    "  for tileImageFileName in script.listTileImagesInPath(path):\n",
    "    # Load the image as a DataFrame and find the average color:\n",
    "    image = script.loadImage(\"project_image.png\", format = \"Lab\")\n",
    "    averageColor = findAverageImageColor(image)\n",
    "\n",
    "    # Store the fileName and average colors in a dictionary:\n",
    "    d = { \"fileName\": tileImageFileName, \"r\": averageColor[\"avg_r\"], \"g\": averageColor[\"avg_g\"], \"b\": averageColor[\"avg_b\"] }\n",
    "    data.append(d)\n",
    "\n",
    "  # Create the `df_tiles` DataFrame:\n",
    "  df_tiles = pd.DataFrame(data)\n",
    "  return df_tiles\n"
   ]
  },
  {
   "cell_type": "markdown",
   "metadata": {},
   "source": [
    "<hr style=\"color: #DD3403;\">"
   ]
  }
 ],
 "metadata": {
  "kernelspec": {
   "display_name": "Python 3.11.5 64-bit",
   "language": "python",
   "name": "python3"
  },
  "language_info": {
   "codemirror_mode": {
    "name": "ipython",
    "version": 3
   },
   "file_extension": ".py",
   "mimetype": "text/x-python",
   "name": "python",
   "nbconvert_exporter": "python",
   "pygments_lexer": "ipython3",
   "version": "3.11.5"
  },
  "vscode": {
   "interpreter": {
    "hash": "1a1af0ee75eeea9e2e1ee996c87e7a2b11a0bebd85af04bb136d915cefc0abce"
   }
  }
 },
 "nbformat": 4,
 "nbformat_minor": 2
}
